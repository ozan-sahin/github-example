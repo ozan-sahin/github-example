{
 "cells": [
  {
   "cell_type": "markdown",
   "metadata": {},
   "source": [
    "### Introduction"
   ]
  },
  {
   "cell_type": "markdown",
   "metadata": {},
   "source": [
    "I am a talented chef who wants to start my own business by opening a restaurant with variety of different cuisines offered in its menu in Istanbul, Turkey."
   ]
  },
  {
   "cell_type": "markdown",
   "metadata": {},
   "source": [
    "What is the best place to open a restraurant in Istanbul? Where is the busiest but relatively cheap part of town? Which part of the city has high demand to restaurants with lowest possible rent rates? "
   ]
  },
  {
   "cell_type": "markdown",
   "metadata": {},
   "source": [
    "Let's summarize expenses of a restaurant in 4 main groups:\n",
    "\n",
    "---\n",
    "- Employee salaries\n",
    "- Rent\n",
    "- Equipment and ingredients\n",
    "- Fixed costs (i.e. Electricity, gas, water, heating)\n",
    "---"
   ]
  },
  {
   "cell_type": "markdown",
   "metadata": {},
   "source": [
    "Out of those 4, all of them except rent is independent of the location of the place. Employee salaries, taxes, fixed costs and ingredients are all in the same price range wherever you open up the location. Whereas rent of the restaurant is heavily dependent on the location. \n",
    "\n",
    "Therefore in this project;\n",
    "- I will first collect list of all municipaities in Istanbul, their coordinates, populations and unit rent values per square meter.\n",
    "- With the help of __Foursquare__ API, I will then analyse the restaurants in istanbul, find their distibution in different municipalities\n",
    "- Then I will cluster them according to their similarities with k-means clustering technique.\n",
    "- Finally I will try to detect a municipality which is __similar to most busiest and highly restaurant dense areas with the lowest rent possible__."
   ]
  },
  {
   "cell_type": "markdown",
   "metadata": {},
   "source": [
    "### Data acquisition and cleaning"
   ]
  },
  {
   "cell_type": "markdown",
   "metadata": {},
   "source": [
    "1. https://emlakkulisi.com/istanbulda-ortalama-kira-ve-geri-donus-sureleri/631190\n",
    "   Web scrape from above link for unit rent for each municipality\n",
    "2. https://tr.wikipedia.org/wiki/%C4%B0stanbul%27un_il%C3%A7eleri\n",
    "   Population of each municipality of Istanbul\n",
    "3. geopy Library\n",
    "   All coordinates are grabbed from geopy library\n",
    "   \n",
    "Beautiful Soup library is being used for grabbing data from two different web pages."
   ]
  },
  {
   "cell_type": "markdown",
   "metadata": {},
   "source": [
    "### Methodology"
   ]
  },
  {
   "cell_type": "markdown",
   "metadata": {},
   "source": [
    "K-means clustering technique is being used. "
   ]
  },
  {
   "cell_type": "markdown",
   "metadata": {},
   "source": [
    "### Results"
   ]
  },
  {
   "cell_type": "markdown",
   "metadata": {},
   "source": [
    "Category __3__ has the most restaurants as top 5 venues. So we will open our restraurant in a category 3 type location.\n",
    "If we look at the dataframe sorted by most crowded municipality, we will see the first place with category 3 is __\"Ümraniye\"__.\n",
    "__Ümraniye__ is also with average rent of 12 TL/m2, cheaper than Istanbul average which is 14.6 TL/m2.\n",
    "In addition to that, restaurants are not most common venues listed in __Ümraniye__. This might mean:\n",
    "1. There are not so many restaurants existing in __Ümraniye__.\n",
    "2. Or they are not worth/qualified enough to attract people.\n",
    "---\n",
    "In either case, this is our chance to test our chef skills for the first time!\n",
    "We not only expertised in Turkish cusine but also in data science now.\n",
    "Cooking skills combined with a smart brain would lead into a business full of success and money.\n",
    "That's a risk worth to take. Let's cook!\n",
    "\n",
    "---"
   ]
  },
  {
   "cell_type": "markdown",
   "metadata": {},
   "source": [
    "### Discussion"
   ]
  },
  {
   "cell_type": "markdown",
   "metadata": {},
   "source": [
    "Cluster 3 and cluster 0 turned out to be very similar. Clustering algorithm can be further optimized.\n",
    "In addition to that assumption of crowded neighborhood will bring more customers can be controversial.\n",
    "Unit rent of each district can be still highly fluctuating within district."
   ]
  },
  {
   "cell_type": "markdown",
   "metadata": {},
   "source": [
    "### Conclusion"
   ]
  },
  {
   "cell_type": "markdown",
   "metadata": {},
   "source": [
    "In this study, I analyzed the relationship between districts and distribution of venues in Istanbuk. I identified Ümraniye to be an ideal place to open a restaurant because of dens population, low rent rates and small number of restaurants."
   ]
  }
 ],
 "metadata": {
  "kernelspec": {
   "display_name": "Python 3",
   "language": "python",
   "name": "python3"
  },
  "language_info": {
   "codemirror_mode": {
    "name": "ipython",
    "version": 3
   },
   "file_extension": ".py",
   "mimetype": "text/x-python",
   "name": "python",
   "nbconvert_exporter": "python",
   "pygments_lexer": "ipython3",
   "version": "3.6.3"
  }
 },
 "nbformat": 4,
 "nbformat_minor": 2
}
