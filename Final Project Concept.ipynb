{
 "cells": [
  {
   "cell_type": "markdown",
   "metadata": {},
   "source": [
    "## I am a talented chef who wants to start my own business by opening a restaurant with variety of different cuisines offered in its menu in Istanbul, Turkey."
   ]
  },
  {
   "cell_type": "markdown",
   "metadata": {},
   "source": [
    "## What is the best place to open a restraurant in Istanbul? Where is the busiest but relatively cheap part of town? Which part of the city has high demand to restaurants with lowest possible rent rates? "
   ]
  },
  {
   "cell_type": "markdown",
   "metadata": {},
   "source": [
    "Let's summarize expenses of a restaurant in 4 main groups:\n",
    "\n",
    "---\n",
    "- Employee salaries\n",
    "- Rent\n",
    "- Equipment and ingredients\n",
    "- Fixed costs (i.e. Electricity, gas, water, heating)\n",
    "---"
   ]
  },
  {
   "cell_type": "markdown",
   "metadata": {},
   "source": [
    "Out of those 4, all of them except rent is independent of the location of the place. Employee salaries, taxes, fixed costs and ingredients are all in the same price range wherever you open up the location. Whereas rent of the restaurant is heavily dependent on the location. \n",
    "\n",
    "Therefore in this project;\n",
    "- I will first collect list of all municipaities in Istanbul, their coordinates, populations and unit rent values per square meter.\n",
    "- With the help of __Foursquare__ API, I will then analyse the restaurants in istanbul, find their distibution in different municipalities\n",
    "- Then I will cluster them according to their similarities with k-means clustering technique.\n",
    "- Finally I will try to detect a municipality which is __similar to most busiest and highly restaurant dense areas with the lowest rent possible__."
   ]
  }
 ],
 "metadata": {
  "kernelspec": {
   "display_name": "Python 3",
   "language": "python",
   "name": "python3"
  },
  "language_info": {
   "codemirror_mode": {
    "name": "ipython",
    "version": 3
   },
   "file_extension": ".py",
   "mimetype": "text/x-python",
   "name": "python",
   "nbconvert_exporter": "python",
   "pygments_lexer": "ipython3",
   "version": "3.6.3"
  }
 },
 "nbformat": 4,
 "nbformat_minor": 2
}
